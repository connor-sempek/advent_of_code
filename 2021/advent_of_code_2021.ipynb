{
 "cells": [
  {
   "cell_type": "markdown",
   "id": "87f9db67",
   "metadata": {},
   "source": [
    "# Advent of Code 2021"
   ]
  },
  {
   "cell_type": "markdown",
   "id": "1370dafe",
   "metadata": {},
   "source": [
    "Imports"
   ]
  },
  {
   "cell_type": "code",
   "execution_count": 100,
   "id": "0fc50c15",
   "metadata": {},
   "outputs": [],
   "source": [
    "import math\n",
    "\n",
    "import numpy as np\n",
    "import pandas as pd"
   ]
  },
  {
   "cell_type": "markdown",
   "id": "fefa5a0e",
   "metadata": {},
   "source": [
    "---\n",
    "## Day 1\n",
    "#### Part 1"
   ]
  },
  {
   "cell_type": "code",
   "execution_count": 101,
   "id": "ab117eb0",
   "metadata": {},
   "outputs": [],
   "source": [
    "# get puzzle inputs\n",
    "with open('data/2021_day_1_input.txt', 'r') as f:\n",
    "    data = [int(ln) for ln in f.readlines()]"
   ]
  },
  {
   "cell_type": "code",
   "execution_count": 102,
   "id": "67d0f3a3",
   "metadata": {},
   "outputs": [
    {
     "name": "stdout",
     "output_type": "stream",
     "text": [
      "1195\n"
     ]
    }
   ],
   "source": [
    "def count_increasing_depths(data):\n",
    "    arr = np.array(data)\n",
    "    return (arr[:-1] < arr[1:]).sum()\n",
    "\n",
    "print(count_increasing_depths(data))"
   ]
  },
  {
   "cell_type": "markdown",
   "id": "f2177e1d",
   "metadata": {},
   "source": [
    "#### Part 2"
   ]
  },
  {
   "cell_type": "code",
   "execution_count": 103,
   "id": "107318fc",
   "metadata": {},
   "outputs": [
    {
     "name": "stdout",
     "output_type": "stream",
     "text": [
      "1235\n"
     ]
    }
   ],
   "source": [
    "def window_sum(data, window):\n",
    "    df = pd.DataFrame(data, columns=['depth'])\n",
    "    return df.depth.rolling(window).sum().tolist()\n",
    "\n",
    "print(count_increasing_depths(window_sum(data, 3)))"
   ]
  },
  {
   "cell_type": "markdown",
   "id": "36cd7063",
   "metadata": {},
   "source": [
    "---\n",
    "## Day 2\n",
    "#### Part 1"
   ]
  },
  {
   "cell_type": "code",
   "execution_count": 104,
   "id": "e2066b8e",
   "metadata": {},
   "outputs": [],
   "source": [
    "# get puzzle inputs\n",
    "with open('data/2021_day_2_input.txt', 'r') as f:\n",
    "    data = [ln.strip() for ln in f.readlines()]"
   ]
  },
  {
   "cell_type": "code",
   "execution_count": 105,
   "id": "4c84982a",
   "metadata": {},
   "outputs": [
    {
     "name": "stdout",
     "output_type": "stream",
     "text": [
      "1459206\n"
     ]
    }
   ],
   "source": [
    "def directional_command_to_xy(s):\n",
    "    direction, units = tuple(s.split())\n",
    "    \n",
    "    # increase horizontal position\n",
    "    if direction == 'forward':  \n",
    "        xy = np.array([int(units), 0])\n",
    "    \n",
    "    # increase depth\n",
    "    elif direction == 'down':  \n",
    "        xy = np.array([0, int(units)])\n",
    "    \n",
    "    # decrease depth\n",
    "    elif direction == 'up':\n",
    "        xy = np.array([0, -int(units)])\n",
    "        \n",
    "    else:\n",
    "        print(f'Unknown direction command: {direction}')\n",
    "        xy = None\n",
    "        \n",
    "    return xy\n",
    "\n",
    "def final_position(data):\n",
    "    return np.array([directional_command_to_xy(s) for s in data]).sum(axis=0)\n",
    "\n",
    "print(math.prod(final_position(data)))"
   ]
  },
  {
   "cell_type": "markdown",
   "id": "ed273352",
   "metadata": {},
   "source": [
    "#### Part 2"
   ]
  },
  {
   "cell_type": "code",
   "execution_count": null,
   "id": "b4d7f114",
   "metadata": {},
   "outputs": [],
   "source": []
  }
 ],
 "metadata": {
  "kernelspec": {
   "display_name": "Python 3 (ipykernel)",
   "language": "python",
   "name": "python3"
  },
  "language_info": {
   "codemirror_mode": {
    "name": "ipython",
    "version": 3
   },
   "file_extension": ".py",
   "mimetype": "text/x-python",
   "name": "python",
   "nbconvert_exporter": "python",
   "pygments_lexer": "ipython3",
   "version": "3.10.0"
  }
 },
 "nbformat": 4,
 "nbformat_minor": 5
}
