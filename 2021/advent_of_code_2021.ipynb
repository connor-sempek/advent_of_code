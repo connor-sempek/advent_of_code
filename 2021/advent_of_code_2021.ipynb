{
 "cells": [
  {
   "cell_type": "markdown",
   "id": "87f9db67",
   "metadata": {},
   "source": [
    "# Advent of Code 2021"
   ]
  },
  {
   "cell_type": "markdown",
   "id": "1370dafe",
   "metadata": {},
   "source": [
    "Imports"
   ]
  },
  {
   "cell_type": "code",
   "execution_count": 1,
   "id": "0fc50c15",
   "metadata": {},
   "outputs": [],
   "source": [
    "import math\n",
    "import os\n",
    "from typing import List, Union\n",
    "\n",
    "import numpy as np\n",
    "import pandas as pd"
   ]
  },
  {
   "cell_type": "markdown",
   "id": "29bb6184",
   "metadata": {},
   "source": [
    "General purpose functions"
   ]
  },
  {
   "cell_type": "code",
   "execution_count": 2,
   "id": "8d4b22bc",
   "metadata": {},
   "outputs": [],
   "source": [
    "# Read in puzzle inputs from `data` folder at root of repo.\n",
    "# Files containing puzzle inputs are formatted as 2021_day_<day number>_input.txt\n",
    "INPUT_DIR = 'data'\n",
    "INPUT_FN_TEMPLATE = '2021_day_{}_input.txt'\n",
    "\n",
    "def get_puzzle_input(day):\n",
    "    \"\"\"load puzzle input for a given day from the `data` folder at the root of the repo\n",
    "    \"\"\"\n",
    "    fp = os.path.join(INPUT_DIR, INPUT_FN_TEMPLATE.format(day))\n",
    "    with open(fp, 'r') as f:\n",
    "        return [ln.strip() for ln in f.readlines()]"
   ]
  },
  {
   "cell_type": "markdown",
   "id": "fefa5a0e",
   "metadata": {},
   "source": [
    "---\n",
    "**Day 1: Part 1**\n",
    "\n",
    "link to puzzle [here](https://adventofcode.com/2021/day/1)"
   ]
  },
  {
   "cell_type": "markdown",
   "id": "b273fa76",
   "metadata": {},
   "source": [
    "Functions"
   ]
  },
  {
   "cell_type": "code",
   "execution_count": 3,
   "id": "67d0f3a3",
   "metadata": {},
   "outputs": [],
   "source": [
    "def count_increasing_depths(data: List[Union[int, float]]) -> float:\n",
    "    \"\"\"given \n",
    "    \"\"\"\n",
    "    arr = np.array(data)\n",
    "    return (arr[:-1] < arr[1:]).sum()"
   ]
  },
  {
   "cell_type": "markdown",
   "id": "d39d8be9",
   "metadata": {},
   "source": [
    "Solution"
   ]
  },
  {
   "cell_type": "code",
   "execution_count": 4,
   "id": "c2711f20",
   "metadata": {},
   "outputs": [
    {
     "name": "stdout",
     "output_type": "stream",
     "text": [
      "1194\n"
     ]
    }
   ],
   "source": [
    "data = get_puzzle_input(day=1)\n",
    "print(count_increasing_depths(data))"
   ]
  },
  {
   "cell_type": "markdown",
   "id": "f2177e1d",
   "metadata": {},
   "source": [
    "#### Part 2"
   ]
  },
  {
   "cell_type": "markdown",
   "id": "f328ec23",
   "metadata": {},
   "source": [
    "Functions"
   ]
  },
  {
   "cell_type": "code",
   "execution_count": 5,
   "id": "107318fc",
   "metadata": {},
   "outputs": [],
   "source": [
    "def window_sum(data, window):\n",
    "    df = pd.DataFrame(data, columns=['depth'])\n",
    "    return df.depth.rolling(window).sum().tolist()"
   ]
  },
  {
   "cell_type": "markdown",
   "id": "24545b16",
   "metadata": {},
   "source": [
    "Solution"
   ]
  },
  {
   "cell_type": "code",
   "execution_count": 6,
   "id": "b0f0e8c5",
   "metadata": {},
   "outputs": [
    {
     "name": "stdout",
     "output_type": "stream",
     "text": [
      "1235\n"
     ]
    }
   ],
   "source": [
    "print(count_increasing_depths(window_sum(data, 3)))"
   ]
  },
  {
   "cell_type": "markdown",
   "id": "36cd7063",
   "metadata": {},
   "source": [
    "---\n",
    "## Day 2\n",
    "#### Part 1"
   ]
  },
  {
   "cell_type": "markdown",
   "id": "6a98f316",
   "metadata": {},
   "source": [
    "Functions"
   ]
  },
  {
   "cell_type": "code",
   "execution_count": 7,
   "id": "d16afebd",
   "metadata": {},
   "outputs": [],
   "source": [
    "def directional_command_to_xy(s):\n",
    "    \"\"\"turn a direction command string into its representation as a vector translation in the \n",
    "    x,y plane of the form [x, y] such that adding the coordinate to another x,y pair [p1, p2] \n",
    "    representing current position, then [p1 + x, p2 + y] is the position resulting from performing \n",
    "    the directional command. \n",
    "    \n",
    "    E.g., if our current position is [0, 0] and we receive the directional command `forward 8`, \n",
    "    then we would return the coordinate vector [8, 0], since moving our current position [0, 0]\n",
    "    8 units along the x axis and 0 units along the y axis restults in [8, 0] = [0 + 8, 0 + 0].\n",
    "    \"\"\"\n",
    "    direction, units = tuple(s.split())\n",
    "    # increase horizontal position\n",
    "    if direction == 'forward':  \n",
    "        xy = np.array([int(units), 0])\n",
    "    # increase depth\n",
    "    elif direction == 'down':  \n",
    "        xy = np.array([0, int(units)])\n",
    "    # decrease depth\n",
    "    elif direction == 'up':\n",
    "        xy = np.array([0, -int(units)])\n",
    "    # if direction is none of forward, down, up, then return None and print a warning\n",
    "    # that the direction command is unknown\n",
    "    else:\n",
    "        print(f'Unknown direction command: {direction}')\n",
    "        xy = None\n",
    "    return xy\n",
    "\n",
    "def final_position(data):\n",
    "    \"\"\"compute the final position resulting from a series of directional commands by summing\n",
    "    their representations as vector translations in the x,y plane.\n",
    "    \"\"\"\n",
    "    return np.array([directional_command_to_xy(s) for s in data]).sum(axis=0)"
   ]
  },
  {
   "cell_type": "markdown",
   "id": "b74dc4dd",
   "metadata": {},
   "source": [
    "Solution"
   ]
  },
  {
   "cell_type": "code",
   "execution_count": 8,
   "id": "f61526a0",
   "metadata": {},
   "outputs": [
    {
     "name": "stdout",
     "output_type": "stream",
     "text": [
      "1459206\n"
     ]
    }
   ],
   "source": [
    "data = get_puzzle_input(day=2)\n",
    "print(math.prod(final_position(data)))"
   ]
  },
  {
   "cell_type": "markdown",
   "id": "ed273352",
   "metadata": {},
   "source": [
    "#### Part 2"
   ]
  },
  {
   "cell_type": "markdown",
   "id": "fb86df8b",
   "metadata": {},
   "source": [
    "Functions"
   ]
  },
  {
   "cell_type": "code",
   "execution_count": 9,
   "id": "ead53dc8",
   "metadata": {},
   "outputs": [],
   "source": [
    "def compute_final_position_aim(commands):\n",
    "    \"\"\"\n",
    "    \"\"\"\n",
    "    pos = [0, 0, 0]\n",
    "    for cmd in commands:\n",
    "        direction = cmd.split()[0]\n",
    "        units = int(cmd.split()[1])\n",
    "        \n",
    "        # increase horizontal position\n",
    "        if direction == 'forward':\n",
    "            pos[0] = pos[0] + units\n",
    "            pos[1] = pos[1] + pos[2] * units\n",
    "            \n",
    "        # increase depth\n",
    "        elif direction == 'down':  \n",
    "            pos[2] = pos[2] + units\n",
    "        \n",
    "        # decrease depth\n",
    "        elif direction == 'up':\n",
    "            pos[2] = pos[2] - units\n",
    "\n",
    "        # if direction is none of forward, down, up, then return None and print a warning\n",
    "        # that the direction command is unknown\n",
    "        else:\n",
    "            raise(ValueError(f'Unknown direction command: {direction}'))\n",
    "    return pos"
   ]
  },
  {
   "cell_type": "markdown",
   "id": "da96e48c",
   "metadata": {},
   "source": [
    "Solution"
   ]
  },
  {
   "cell_type": "code",
   "execution_count": 10,
   "id": "14011f07",
   "metadata": {},
   "outputs": [
    {
     "name": "stdout",
     "output_type": "stream",
     "text": [
      "1320534480\n"
     ]
    }
   ],
   "source": [
    "print(math.prod(compute_final_position_aim(data)[:-1]))"
   ]
  },
  {
   "cell_type": "markdown",
   "id": "cab4e631",
   "metadata": {},
   "source": [
    "---\n",
    "## Day 3\n",
    "#### Part 1"
   ]
  },
  {
   "cell_type": "markdown",
   "id": "4f9813fd",
   "metadata": {},
   "source": [
    "Functions"
   ]
  },
  {
   "cell_type": "code",
   "execution_count": 99,
   "id": "093aab83",
   "metadata": {},
   "outputs": [],
   "source": [
    "def binary_array_to_string(arr):\n",
    "    \"\"\"turn an 1 x n array `arr` whose elements are binary digits, i.e. 1 or 0\n",
    "    into a string `s` such that `s[i] = str(arr[i])`\n",
    "    \"\"\"\n",
    "    return ''.join(arr.astype(str))\n",
    "\n",
    "def binary_strings_to_array(data):\n",
    "    \"\"\"turn a list of binary strings into a numpy array as follows. If there are m binary strings of length n, \n",
    "    then create an m x n table where the element at row i, column j is the jth digit of the ith \n",
    "    binary string, as an int\n",
    "    \"\"\"\n",
    "    return np.array([list(b) for b in data]).astype(int)\n",
    "\n",
    "def get_least_frequent_bits(arr):\n",
    "    \"\"\"for an m x n array `arr` in {0,1}^(m x n), return a 1 x n array in {1,0}^n\n",
    "    whose ith position is the bit which appears **least** frequently in ith column of `arr`,\n",
    "    with ties going to 0\n",
    "    \"\"\"\n",
    "    # get frequency of 1s and 0s in each column\n",
    "    freq_ones = arr.sum(axis=0)\n",
    "    freq_zeros = arr.shape[0] - freq_ones\n",
    "    \n",
    "    # find least frequent bit for each column by doing element-wise comparison\n",
    "    least_frequent_bits = (freq_ones < freq_zeros).astype(int)\n",
    "\n",
    "    # when frequencies are equal, set to 0\n",
    "    least_frequent_bits[freq_ones == freq_zeros] = 0\n",
    "    return least_frequent_bits\n",
    "\n",
    "def get_most_frequent_bits(arr):\n",
    "    \"\"\"for an m x n array `arr` in {0,1}^(m x n), return a 1 x n array in {1,0}^n\n",
    "    whose ith position is the bit which appears **most** frequently in ith column of `arr`,\n",
    "    with ties going to 1\n",
    "    \"\"\"\n",
    "    # get frequency of 1s and 0s in each column\n",
    "    freq_ones = arr.sum(axis=0)\n",
    "    freq_zeros = arr.shape[0] - freq_ones\n",
    "    \n",
    "    # find least frequent bit for each column by doing element-wise comparison\n",
    "    most_frequent_bits = (freq_ones > freq_zeros).astype(int)\n",
    "\n",
    "    # when frequencies are equal, set to 0\n",
    "    most_frequent_bits[freq_ones == freq_zeros] = 1\n",
    "    return most_frequent_bits\n",
    "\n",
    "def get_gamma_rate(arr):\n",
    "    return int(binary_array_to_string(get_most_frequent_bits(arr)), base=2)\n",
    "\n",
    "def get_epsilon_rate(arr):\n",
    "    return int(binary_array_to_string(get_least_frequent_bits(arr)), base=2)"
   ]
  },
  {
   "cell_type": "markdown",
   "id": "3bc96d78",
   "metadata": {},
   "source": [
    "Solution"
   ]
  },
  {
   "cell_type": "code",
   "execution_count": 116,
   "id": "1c9ec281",
   "metadata": {},
   "outputs": [
    {
     "name": "stdout",
     "output_type": "stream",
     "text": [
      "1082324\n"
     ]
    }
   ],
   "source": [
    "data = get_puzzle_input(day=3)\n",
    "arr = binary_strings_to_array(data)\n",
    "gamma = get_gamma_rate(arr)\n",
    "epsilon = get_epsilon_rate(arr)\n",
    "print(gamma * epsilon)"
   ]
  },
  {
   "cell_type": "markdown",
   "id": "ce5ea524",
   "metadata": {},
   "source": [
    "#### Part 2"
   ]
  },
  {
   "cell_type": "markdown",
   "id": "555ead10",
   "metadata": {},
   "source": [
    "Functions"
   ]
  },
  {
   "cell_type": "code",
   "execution_count": 121,
   "id": "40e6f3cd",
   "metadata": {},
   "outputs": [],
   "source": [
    "def get_rating(arr, bit_criteria):\n",
    "    ncols = arr.shape[1]\n",
    "    rating_arr = arr[:, :]\n",
    "    for i in range(ncols):\n",
    "        rating_arr = rating_arr[bit_criteria(rating_arr, i), :]\n",
    "        if rating_arr.shape[0] == 1:\n",
    "            break\n",
    "    return int(binary_array_to_string(rating_arr[0]), base=2)\n",
    "\n",
    "def oxygen_generator_rating_bit_criteria(arr, i):\n",
    "    return arr[:, i] == get_least_frequent_bits(arr)[i]\n",
    "\n",
    "def CO2_scrubber_rating_bit_criteria(arr, i):\n",
    "    return arr[:, i] == get_most_frequent_bits(arr)[i]\n",
    "\n",
    "def get_CO2_scrubber_rating(arr):\n",
    "    return get_rating(arr, CO2_scrubber_rating_bit_criteria)\n",
    "\n",
    "def get_oxygen_generator_rating(arr):\n",
    "    return get_rating(arr, oxygen_generator_rating_bit_criteria)\n",
    "\n",
    "def get_life_support_rating(arr):\n",
    "    return get_oxygen_generator_rating(arr) * get_CO2_scrubber_rating(arr)"
   ]
  },
  {
   "cell_type": "markdown",
   "id": "c1e6713b",
   "metadata": {},
   "source": [
    "Solution"
   ]
  },
  {
   "cell_type": "code",
   "execution_count": 122,
   "id": "6c089b8f",
   "metadata": {},
   "outputs": [
    {
     "name": "stdout",
     "output_type": "stream",
     "text": [
      "1353024\n"
     ]
    }
   ],
   "source": [
    "print(get_life_support_rating(arr))"
   ]
  }
 ],
 "metadata": {
  "kernelspec": {
   "display_name": "Python 3 (ipykernel)",
   "language": "python",
   "name": "python3"
  },
  "language_info": {
   "codemirror_mode": {
    "name": "ipython",
    "version": 3
   },
   "file_extension": ".py",
   "mimetype": "text/x-python",
   "name": "python",
   "nbconvert_exporter": "python",
   "pygments_lexer": "ipython3",
   "version": "3.10.0"
  }
 },
 "nbformat": 4,
 "nbformat_minor": 5
}
