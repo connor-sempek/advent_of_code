{
 "cells": [
  {
   "cell_type": "markdown",
   "id": "87f9db67",
   "metadata": {},
   "source": [
    "# Advent of Code 2021: Day 7\n",
    "link to puzzle [here](https://adventofcode.com/2021/day/7)"
   ]
  },
  {
   "cell_type": "markdown",
   "id": "1370dafe",
   "metadata": {},
   "source": [
    "Imports"
   ]
  },
  {
   "cell_type": "code",
   "execution_count": 1,
   "id": "0fc50c15",
   "metadata": {},
   "outputs": [],
   "source": [
    "from dataclasses import dataclass\n",
    "from typing import List\n",
    "\n",
    "import numpy as np\n",
    "\n",
    "!ln -sf ../utils.py .\n",
    "import utils"
   ]
  },
  {
   "cell_type": "markdown",
   "id": "6e21c2c8",
   "metadata": {},
   "source": [
    "Load puzzle input data"
   ]
  },
  {
   "cell_type": "code",
   "execution_count": 2,
   "id": "3e8fb462",
   "metadata": {},
   "outputs": [],
   "source": [
    "DATA_DIR = '../data'\n",
    "DAY = 7\n",
    "data = utils.get_puzzle_input(day=DAY, input_dir=DATA_DIR)"
   ]
  },
  {
   "cell_type": "markdown",
   "id": "77fe203c",
   "metadata": {},
   "source": [
    "Classes"
   ]
  },
  {
   "cell_type": "markdown",
   "id": "393e6504",
   "metadata": {},
   "source": [
    "Functions"
   ]
  },
  {
   "cell_type": "code",
   "execution_count": 4,
   "id": "7880794f",
   "metadata": {},
   "outputs": [],
   "source": [
    "def get_horizontal_positions(data):\n",
    "    return [int(t) for t in data[0].split(',')]"
   ]
  },
  {
   "cell_type": "markdown",
   "id": "ae2cbd4e",
   "metadata": {},
   "source": [
    "#### Part 1"
   ]
  },
  {
   "cell_type": "code",
   "execution_count": 34,
   "id": "c781a3b5",
   "metadata": {},
   "outputs": [
    {
     "name": "stdout",
     "output_type": "stream",
     "text": [
      "337488\n"
     ]
    }
   ],
   "source": [
    "# load horizontal positions into numpy array\n",
    "hpos = get_horizontal_positions(data)\n",
    "hpos_arr = np.array(hpos)\n",
    "\n",
    "# initialize current and minimum refuel costs to be the cost to get the crabs\n",
    "# horizontal positions all equal to the minimum horizontal position\n",
    "curr_cost = np.abs(hpos_arr - np.repeat(hpos_arr.min(), hpos_arr.size)).sum()\n",
    "min_cost = curr_cost\n",
    "\n",
    "# for each value i between the minimum and maximum horizontal position, compute\n",
    "# the cost of moving all crabs to horizontal position i. If this cost is cheaper than the\n",
    "# current minimum cost, update min_cost with this new lower cost.\n",
    "for i in range(hpos_arr.min() + 1, hpos_arr.max() + 1):\n",
    "    curr_cost = np.abs(hpos_arr - np.repeat(i, hpos_arr.size)).sum()\n",
    "    if curr_cost < min_cost:\n",
    "        min_cost = curr_cost\n",
    "print(min_cost)"
   ]
  }
 ],
 "metadata": {
  "kernelspec": {
   "display_name": "Python 3 (ipykernel)",
   "language": "python",
   "name": "python3"
  },
  "language_info": {
   "codemirror_mode": {
    "name": "ipython",
    "version": 3
   },
   "file_extension": ".py",
   "mimetype": "text/x-python",
   "name": "python",
   "nbconvert_exporter": "python",
   "pygments_lexer": "ipython3",
   "version": "3.10.0"
  }
 },
 "nbformat": 4,
 "nbformat_minor": 5
}
