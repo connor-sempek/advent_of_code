{
 "cells": [
  {
   "cell_type": "markdown",
   "id": "87f9db67",
   "metadata": {},
   "source": [
    "# Advent of Code 2021: Day 1\n",
    "link to puzzle [here](https://adventofcode.com/2021/day/1)"
   ]
  },
  {
   "cell_type": "markdown",
   "id": "1370dafe",
   "metadata": {},
   "source": [
    "Imports"
   ]
  },
  {
   "cell_type": "code",
   "execution_count": 2,
   "id": "0fc50c15",
   "metadata": {},
   "outputs": [],
   "source": [
    "from typing import List, Union\n",
    "\n",
    "import numpy as np\n",
    "import pandas as pd\n",
    "\n",
    "!ln -sf ../utils.py .\n",
    "import utils"
   ]
  },
  {
   "cell_type": "markdown",
   "id": "f3820440",
   "metadata": {},
   "source": [
    "Load puzzle input data"
   ]
  },
  {
   "cell_type": "code",
   "execution_count": 3,
   "id": "66c01808",
   "metadata": {},
   "outputs": [],
   "source": [
    "DATA_DIR = '../data'\n",
    "DAY = 1\n",
    "data = utils.get_puzzle_input(day=DAY, input_dir=DATA_DIR)"
   ]
  },
  {
   "cell_type": "markdown",
   "id": "542c2764",
   "metadata": {},
   "source": [
    "Functions"
   ]
  },
  {
   "cell_type": "code",
   "execution_count": 4,
   "id": "20c286fb",
   "metadata": {},
   "outputs": [],
   "source": [
    "def count_strict_increases(arr: np.ndarray) -> int:\n",
    "    \"\"\"given a 1 x n numpy array `arr` with elements a_i, return the count of adjacent pairs\n",
    "    a_i, a_{i+1} such that a_{i+1} > a_i\n",
    "    \"\"\"\n",
    "    return (arr[:-1] < arr[1:]).sum()"
   ]
  },
  {
   "cell_type": "markdown",
   "id": "fefa5a0e",
   "metadata": {},
   "source": [
    "#### Part 1"
   ]
  },
  {
   "cell_type": "markdown",
   "id": "a7e70de8",
   "metadata": {},
   "source": [
    "Solution"
   ]
  },
  {
   "cell_type": "code",
   "execution_count": 5,
   "id": "19c98c33",
   "metadata": {},
   "outputs": [
    {
     "name": "stdout",
     "output_type": "stream",
     "text": [
      "1195\n"
     ]
    }
   ],
   "source": [
    "# read in depth measurements as a list of strings\n",
    "data = utils.get_puzzle_input(day=DAY, input_dir=DATA_DIR)\n",
    "\n",
    "# convert data to numpy integer array\n",
    "arr = np.array(data, dtype=int)    \n",
    "\n",
    "# count strictly increasing adjacent pairs of depth measurements\n",
    "print(count_strict_increases(arr)) "
   ]
  },
  {
   "cell_type": "markdown",
   "id": "f2177e1d",
   "metadata": {},
   "source": [
    "#### Part 2"
   ]
  },
  {
   "cell_type": "markdown",
   "id": "709f945e",
   "metadata": {},
   "source": [
    "Solution"
   ]
  },
  {
   "cell_type": "code",
   "execution_count": 6,
   "id": "8956a800",
   "metadata": {},
   "outputs": [
    {
     "name": "stdout",
     "output_type": "stream",
     "text": [
      "1235\n"
     ]
    }
   ],
   "source": [
    "# convert array `arr` from part 1 to pandas data frame with column name `depth`\n",
    "df = pd.DataFrame(arr, columns=['depth'])\n",
    "\n",
    "# compute rolling sum of `depth` values with a window length of 3\n",
    "df_rolling_sum = df.depth.rolling(3).sum()\n",
    "\n",
    "# count strictly increasing adjacent pairs of rolling depth totals\n",
    "print(count_strict_increases(df_rolling_sum.values))"
   ]
  }
 ],
 "metadata": {
  "kernelspec": {
   "display_name": "Python 3 (ipykernel)",
   "language": "python",
   "name": "python3"
  },
  "language_info": {
   "codemirror_mode": {
    "name": "ipython",
    "version": 3
   },
   "file_extension": ".py",
   "mimetype": "text/x-python",
   "name": "python",
   "nbconvert_exporter": "python",
   "pygments_lexer": "ipython3",
   "version": "3.10.0"
  }
 },
 "nbformat": 4,
 "nbformat_minor": 5
}
