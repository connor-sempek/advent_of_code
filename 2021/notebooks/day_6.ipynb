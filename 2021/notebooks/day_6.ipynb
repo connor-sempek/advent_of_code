{
 "cells": [
  {
   "cell_type": "markdown",
   "id": "87f9db67",
   "metadata": {},
   "source": [
    "# Advent of Code 2021: Day 6\n",
    "link to puzzle [here](https://adventofcode.com/2021/day/6)"
   ]
  },
  {
   "cell_type": "markdown",
   "id": "1370dafe",
   "metadata": {},
   "source": [
    "Imports"
   ]
  },
  {
   "cell_type": "code",
   "execution_count": 42,
   "id": "0fc50c15",
   "metadata": {},
   "outputs": [],
   "source": [
    "from dataclasses import dataclass\n",
    "from typing import List\n",
    "\n",
    "!ln -sf ../utils.py .\n",
    "import utils"
   ]
  },
  {
   "cell_type": "markdown",
   "id": "6e21c2c8",
   "metadata": {},
   "source": [
    "Load puzzle input data"
   ]
  },
  {
   "cell_type": "code",
   "execution_count": 43,
   "id": "3e8fb462",
   "metadata": {},
   "outputs": [],
   "source": [
    "DATA_DIR = '../data'\n",
    "DAY = 6\n",
    "data = utils.get_puzzle_input(day=DAY, input_dir=DATA_DIR)"
   ]
  },
  {
   "cell_type": "markdown",
   "id": "77fe203c",
   "metadata": {},
   "source": [
    "Classes"
   ]
  },
  {
   "cell_type": "code",
   "execution_count": 44,
   "id": "1f781c1f",
   "metadata": {},
   "outputs": [],
   "source": [
    "@dataclass\n",
    "class LanternfishPop:\n",
    "    \"\"\"model lanternfish population from an initial state of internal timer values. \n",
    "    \n",
    "    Lanternfish populations are modeled as counts of \n",
    "        * parent lanternfish X days from giving birth to child lanternsifh, and\n",
    "        * child lanternfish Y days from maturing to parent lantern fish\n",
    "    where \n",
    "        * 0 <= X < `time_to_birth` (X an integer) \n",
    "        * 0 <= Y < `time_to_mature` (Y an integer)\n",
    "    \n",
    "    Lanternfish populations start from an initial state defining the parent lanternfish population,\n",
    "    and no children lanternfish. We represent the parent populations as arrays whose value\n",
    "    at some position `i` is equal to the number of parent lanternfish whose internal timer value is\n",
    "    currently `i`. Children lanternfish populations are represented similarly, the only difference being\n",
    "    that the length of parent and child lanternfish population arrays are `time_to_birth` and `time_to_mature`,\n",
    "    repsectively. As such, at initialization, the population arrays look as follows.\n",
    "        * parent population stored in `parent_pop` and `parent_pop[i]` is equal to the number\n",
    "          of times `i` appears in `initial_state`, `0 <= i < time_to_birth`\n",
    "        * child population stored in `child_pop` and `child_pop[j] = 0` for all `0 < j <= time_to_mature`\n",
    "    \n",
    "    As days elapse, the child and parent lanternfish populations change according to the following rules.\n",
    "    \n",
    "    \"\"\"\n",
    "    # initial state of lanternfish population given as list of integers where each item\n",
    "    # of the list represents an individual parent lanternfish's internal timer value\n",
    "    initial_state: List[int]\n",
    "    \n",
    "    # length of birthing cycle for parent lanternfish\n",
    "    time_to_birth: int = 7\n",
    "        \n",
    "    # time it takes child lanternfish to mature to a parent lanternfish, where\n",
    "    # the difference between a child and parent is the length of the birthing cycle\n",
    "    time_to_mature: int = 9\n",
    "        \n",
    "    def __post_init__(self):\n",
    "        self._initialize_child_pop()\n",
    "        self._initialize_parent_pop()\n",
    "        \n",
    "    def _initialize_child_pop(self):\n",
    "        \"\"\"child population always starts out with 0 children\n",
    "        \"\"\"\n",
    "        self.child_pop = [0] * self.time_to_mature\n",
    "    \n",
    "    def _initialize_parent_pop(self):\n",
    "        \"\"\"starting parent population is defined by `initial_state`\n",
    "        \"\"\"\n",
    "        self.parent_pop = [sum(s == i for s in self.initial_state) for i in range(self.time_to_birth)]\n",
    "        \n",
    "    def elapse_day(self):\n",
    "        \"\"\"elapsing a day reduces internal timer values by 1 for all lanternfish, so we\n",
    "        update our population counts by moving counts from i to i - 1 taken modulo `time_to_birth`\n",
    "        for `parent_pop` and `time_to_mature` for `child_pop`\n",
    "        \"\"\"\n",
    "        self.parent_pop = self.roll(self.parent_pop, -1)\n",
    "        self.child_pop = self.roll(self.child_pop, -1)\n",
    "        \n",
    "    def parents_are_ready_to_birth(self):\n",
    "        return self.parent_pop[-1] > 0\n",
    "    \n",
    "    def children_are_ready_to_mature(self):\n",
    "        return self.child_pop[-1] > 0\n",
    "    \n",
    "    def give_birth(self):\n",
    "        self.child_pop[-1] += self.parent_pop[-1]\n",
    "        \n",
    "    def mature_children(self):\n",
    "        \"\"\"when children mature they become parents, so update the parent\n",
    "        population to include the number of children maturing to adult and reduce\n",
    "        the child population by the number of fish which matured to parents\n",
    "        \"\"\"\n",
    "        self.parent_pop[0] += self.child_pop[0]\n",
    "        self.child_pop[0] = 0\n",
    "        \n",
    "    def simulate_population_growth(self, days):\n",
    "        \"\"\"simulate lanternfish population growth over a specified number of days, `days`\n",
    "        \"\"\"\n",
    "        for day in range(days):\n",
    "            self.elapse_day()\n",
    "            self.mature_children()\n",
    "            self.give_birth()\n",
    "                \n",
    "    def reset_population(self):\n",
    "        \"\"\"reset lanternfish population back to initial state\n",
    "        \"\"\"\n",
    "        self._initialize_child_pop()\n",
    "        self._initialize_parent_pop()\n",
    "        \n",
    "    def get_current_population_size(self):\n",
    "        \"\"\"print the total population of lanternfish at current state\n",
    "        \"\"\"\n",
    "        return sum(self.child_pop) + sum(self.parent_pop)\n",
    "    \n",
    "    @staticmethod\n",
    "    def roll(li, shift):\n",
    "        \"\"\"if `li` is a list with `len(li) = n`, then \"roll\" elements of `li` forward or backward by\n",
    "        `shift` units, that is map position i -> position (i - shift) mod n. E.g.,\n",
    "        ```\n",
    "        >>> li = [1, 2, 3, 4]\n",
    "        >>> roll(li, 1)\n",
    "        [4, 1, 2, 3]\n",
    "        >>> roll(li, -2)\n",
    "        [3, 4, 1, 2]\n",
    "        ```\n",
    "        \"\"\"\n",
    "        return [li[(i - shift) % len(li)] for i in range(len(li))]"
   ]
  },
  {
   "cell_type": "markdown",
   "id": "393e6504",
   "metadata": {},
   "source": [
    "Functions"
   ]
  },
  {
   "cell_type": "code",
   "execution_count": 45,
   "id": "7880794f",
   "metadata": {},
   "outputs": [],
   "source": [
    "def get_initial_state(data):\n",
    "    return [int(t) for t in data[0].split(',')]"
   ]
  },
  {
   "cell_type": "markdown",
   "id": "20128aef",
   "metadata": {},
   "source": [
    "Test"
   ]
  },
  {
   "cell_type": "code",
   "execution_count": 46,
   "id": "b6372567",
   "metadata": {},
   "outputs": [
    {
     "name": "stdout",
     "output_type": "stream",
     "text": [
      "26\n"
     ]
    }
   ],
   "source": [
    "initial_state = [3, 4, 3, 1, 2]\n",
    "pop = LanternfishPop(initial_state)\n",
    "pop.simulate_population_growth(days=18)\n",
    "print(pop.get_current_population_size())"
   ]
  },
  {
   "cell_type": "markdown",
   "id": "64eb06ec",
   "metadata": {},
   "source": [
    "#### Part 1"
   ]
  },
  {
   "cell_type": "code",
   "execution_count": 47,
   "id": "4cf77f00",
   "metadata": {},
   "outputs": [
    {
     "name": "stdout",
     "output_type": "stream",
     "text": [
      "380758\n"
     ]
    }
   ],
   "source": [
    "initial_state = get_initial_state(data)\n",
    "pop = LanternfishPop(initial_state)\n",
    "pop.simulate_population_growth(days=80)\n",
    "print(pop.get_current_population_size())"
   ]
  },
  {
   "cell_type": "markdown",
   "id": "264a3bcf",
   "metadata": {},
   "source": [
    "#### Part 2"
   ]
  },
  {
   "cell_type": "code",
   "execution_count": 48,
   "id": "7f6dd08b",
   "metadata": {},
   "outputs": [
    {
     "name": "stdout",
     "output_type": "stream",
     "text": [
      "1710623015163\n"
     ]
    }
   ],
   "source": [
    "pop.reset_population()\n",
    "pop.simulate_population_growth(days=256)\n",
    "print(pop.get_current_population_size())"
   ]
  }
 ],
 "metadata": {
  "kernelspec": {
   "display_name": "Python 3 (ipykernel)",
   "language": "python",
   "name": "python3"
  },
  "language_info": {
   "codemirror_mode": {
    "name": "ipython",
    "version": 3
   },
   "file_extension": ".py",
   "mimetype": "text/x-python",
   "name": "python",
   "nbconvert_exporter": "python",
   "pygments_lexer": "ipython3",
   "version": "3.10.0"
  }
 },
 "nbformat": 4,
 "nbformat_minor": 5
}
