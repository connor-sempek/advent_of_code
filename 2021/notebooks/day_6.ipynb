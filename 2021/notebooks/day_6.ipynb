{
 "cells": [
  {
   "cell_type": "markdown",
   "id": "87f9db67",
   "metadata": {},
   "source": [
    "# Advent of Code 2021: Day 6\n",
    "link to puzzle [here](https://adventofcode.com/2021/day/6)"
   ]
  },
  {
   "cell_type": "markdown",
   "id": "1370dafe",
   "metadata": {},
   "source": [
    "Imports"
   ]
  },
  {
   "cell_type": "code",
   "execution_count": 1,
   "id": "0fc50c15",
   "metadata": {},
   "outputs": [],
   "source": [
    "from dataclasses import dataclass, field\n",
    "from typing import List\n",
    "\n",
    "import numpy as np\n",
    "import numpy.typing as npt\n",
    "\n",
    "!ln -sf ../utils.py .\n",
    "import utils"
   ]
  },
  {
   "cell_type": "markdown",
   "id": "6e21c2c8",
   "metadata": {},
   "source": [
    "Load puzzle input data"
   ]
  },
  {
   "cell_type": "code",
   "execution_count": 177,
   "id": "3e8fb462",
   "metadata": {},
   "outputs": [],
   "source": [
    "DATA_DIR = '../data'\n",
    "DAY = 6\n",
    "data = utils.get_puzzle_input(day=DAY, input_dir=DATA_DIR)"
   ]
  },
  {
   "cell_type": "markdown",
   "id": "77fe203c",
   "metadata": {},
   "source": [
    "Functions"
   ]
  },
  {
   "cell_type": "code",
   "execution_count": 178,
   "id": "b590d7d9",
   "metadata": {},
   "outputs": [],
   "source": [
    "# * `parents` is an array of length 7 with such that `parents[i]` is the number of \n",
    "#   parent fish whose internal timer value is `i`. E.g., given the initial state `3 4 3 1 2`, \n",
    "#   then `parents = [0, 1, 1, 2, 1, 0, 0]`.\n",
    "# * `children` is a similarly defined array except has length 9 to keep track of children fish\n",
    "#.  who have a 2 day delay on their first cycle.\n",
    "# * Every time children reach 0, i.e. `children[0] > 0`, we take the value of `children[0]` and \n",
    "#   add to `parents[0]` and then set `children[0] = 0`, since after one length 8 cycle, children \n",
    "#   then become parents on a length 6 cycle.\n",
    "\n",
    "def get_initial_state(data):\n",
    "    return np.array([int(t) for t in data[0].split(',')])\n",
    "\n",
    "def initialize_children():\n",
    "    return np.zeros(9)\n",
    "\n",
    "def initialize_parents(initial_state):\n",
    "    return np.array([(initial_state == i).sum() for i in range(7)])\n",
    "\n",
    "def elapse_day(parents, children):\n",
    "    return np.roll(parents, -1), np.roll(children, -1)\n",
    "\n",
    "def parents_are_ready(parents):\n",
    "    return parents[-1] > 0\n",
    "\n",
    "def children_are_ready(children):\n",
    "    return children[0] > 0 \n",
    "\n",
    "def give_birth(parents, children):\n",
    "    children[-1] += parents[-1]\n",
    "    return children\n",
    "\n",
    "def mature(parents, children):\n",
    "    # children become adults\n",
    "    parents[0] += children[0]\n",
    "    children[0] = 0\n",
    "    return parents, children\n",
    "\n",
    "def simulate_lantern_fish(data, days):\n",
    "    \"\"\"simulate lanternfish population growth by tracking counts of fish at x days from \n",
    "    giving birth. \n",
    "    \"\"\"\n",
    "    initial_state = get_initial_state(data)\n",
    "    parents = initialize_parents(initial_state)\n",
    "    children = initialize_children()\n",
    "    for day in range(days):\n",
    "        parents, children = elapse_day(parents, children)\n",
    "        # if any children fish have internal timer 0, then mature them by adding to parents\n",
    "        if children_are_ready(children):\n",
    "            parents, children = mature(parents, children)\n",
    "        # if any parent fish have internal timer 0, then birth some fish by upating children\n",
    "        if parents_are_ready(parents):\n",
    "            give_birth(parents, children)\n",
    "    return parents, children"
   ]
  },
  {
   "cell_type": "markdown",
   "id": "d15fdb76",
   "metadata": {},
   "source": [
    "#### Part 1"
   ]
  },
  {
   "cell_type": "code",
   "execution_count": 183,
   "id": "edaf0f48",
   "metadata": {},
   "outputs": [
    {
     "name": "stdout",
     "output_type": "stream",
     "text": [
      "380758\n"
     ]
    }
   ],
   "source": [
    "parents, children = simulate_lantern_fish(data, days=80)\n",
    "print(int(parents.sum() + children.sum()))"
   ]
  },
  {
   "cell_type": "markdown",
   "id": "264a3bcf",
   "metadata": {},
   "source": [
    "#### Part 2"
   ]
  },
  {
   "cell_type": "code",
   "execution_count": 184,
   "id": "6dcc6ef7",
   "metadata": {},
   "outputs": [
    {
     "name": "stdout",
     "output_type": "stream",
     "text": [
      "1710623015163\n"
     ]
    }
   ],
   "source": [
    "parents, children = simulate_lantern_fish(data, days=256)\n",
    "print(int(parents.sum() + children.sum()))"
   ]
  },
  {
   "cell_type": "code",
   "execution_count": null,
   "id": "1fad9bbe",
   "metadata": {},
   "outputs": [],
   "source": []
  }
 ],
 "metadata": {
  "kernelspec": {
   "display_name": "Python 3 (ipykernel)",
   "language": "python",
   "name": "python3"
  },
  "language_info": {
   "codemirror_mode": {
    "name": "ipython",
    "version": 3
   },
   "file_extension": ".py",
   "mimetype": "text/x-python",
   "name": "python",
   "nbconvert_exporter": "python",
   "pygments_lexer": "ipython3",
   "version": "3.10.0"
  }
 },
 "nbformat": 4,
 "nbformat_minor": 5
}
