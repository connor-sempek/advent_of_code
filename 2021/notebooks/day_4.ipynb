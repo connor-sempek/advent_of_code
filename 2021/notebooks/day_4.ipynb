{
 "cells": [
  {
   "cell_type": "markdown",
   "id": "87f9db67",
   "metadata": {},
   "source": [
    "# Advent of Code 2021: Day 4\n",
    "link to puzzle [here](https://adventofcode.com/2021/day/4)"
   ]
  },
  {
   "cell_type": "markdown",
   "id": "1370dafe",
   "metadata": {},
   "source": [
    "Imports"
   ]
  },
  {
   "cell_type": "code",
   "execution_count": 6,
   "id": "0fc50c15",
   "metadata": {},
   "outputs": [],
   "source": [
    "from dataclasses import dataclass, field\n",
    "from typing import List\n",
    "\n",
    "import numpy as np\n",
    "import numpy.typing as npt\n",
    "\n",
    "!ln -sf ../utils.py .\n",
    "import utils"
   ]
  },
  {
   "cell_type": "markdown",
   "id": "6e21c2c8",
   "metadata": {},
   "source": [
    "Load puzzle input data"
   ]
  },
  {
   "cell_type": "code",
   "execution_count": 7,
   "id": "3e8fb462",
   "metadata": {},
   "outputs": [],
   "source": [
    "DATA_DIR = '../data'\n",
    "DAY = 4\n",
    "data = utils.get_puzzle_input(day=DAY, input_dir=DATA_DIR)"
   ]
  },
  {
   "cell_type": "markdown",
   "id": "35e325a8",
   "metadata": {},
   "source": [
    "Classes"
   ]
  },
  {
   "cell_type": "code",
   "execution_count": 8,
   "id": "a4b0d1ee",
   "metadata": {},
   "outputs": [],
   "source": [
    "@dataclass\n",
    "class BingoBoard:\n",
    "    \"\"\"Class for bingo board\"\"\"\n",
    "    \n",
    "    # only input is a 2D board passed as a numpy array\n",
    "    board: np.ndarray\n",
    "    \n",
    "    def __post_init__(self):\n",
    "        \n",
    "        # dimensions of bingo board\n",
    "        self.dim = self.board.shape\n",
    "        self.nrows, ncols = self.dim\n",
    "    \n",
    "        # initialize a marker board to track drawn numbers on the board\n",
    "        self.init_marker()        \n",
    "    \n",
    "    def init_marker(self):\n",
    "        \"\"\"build an array with the same dimension as `board` with all values are `False`\n",
    "        \"\"\"\n",
    "        self.marker = np.zeros(self.dim, dtype=bool)\n",
    "    \n",
    "    def update_marker(self, draws: List[int]):\n",
    "        \"\"\"update the marker board elements False -> True for any number in `draws` also present in `board`\n",
    "        \"\"\"\n",
    "        self.marker = np.isin(self.board, draws)\n",
    "        \n",
    "    def reset_marker(self):\n",
    "        \"\"\"reset marker by re-initializing to all `False` values\n",
    "        \"\"\"\n",
    "        self.init_marker()\n",
    "        \n",
    "    def is_winner(self):\n",
    "        \"\"\"determine if board is a winner by checking if the marker board contains all True\n",
    "        values in any row or column \n",
    "        \"\"\"\n",
    "        return self.marker.all(axis=0).any() | self.marker.all(axis=1).any()\n",
    "    \n",
    "    def sum_of_unmarked(self):\n",
    "        \"\"\"return the sum of values of `board` which are `False` in `marker`\n",
    "        \"\"\"\n",
    "        return self.board[~self.marker].sum()"
   ]
  },
  {
   "cell_type": "markdown",
   "id": "34f0079f",
   "metadata": {},
   "source": [
    "Functions"
   ]
  },
  {
   "cell_type": "code",
   "execution_count": 9,
   "id": "166ff086",
   "metadata": {},
   "outputs": [],
   "source": [
    "def get_bingo_draws(data):\n",
    "    \"\"\"get bingo number draws from puzzle input data\n",
    "    \"\"\"\n",
    "    return [int(draw) for draw in data[0].split(',')]\n",
    "\n",
    "def get_bingo_board_arrays(data):\n",
    "    \"\"\"get bingo boards from puzzle input data\n",
    "    \"\"\"\n",
    "    boards = []\n",
    "    board = []\n",
    "    for ln in data[1:]:\n",
    "        if len(ln) > 0:\n",
    "            board.append([int(num) for num in ln.split()])\n",
    "        else:\n",
    "            if len(board) > 0:\n",
    "                boards.append(board)\n",
    "                board = []\n",
    "    return np.array(boards)\n",
    "\n",
    "def game_has_winner(bingo_boards, draws):\n",
    "    for bb in bingo_boards:\n",
    "        bb.update_marker(draws)\n",
    "        if bb.is_winner():\n",
    "            return True\n",
    "    return False\n",
    "\n",
    "def get_min_draws_to_win(bingo_boards, draws):\n",
    "    \"\"\"perform binary search on a list bingo draws to find the minimum number of consecutive draws\n",
    "    which will produce at least 1 winning board. Note: we assume there is at least 1 winner if all \n",
    "    numbers in `draws` are used\n",
    "    \"\"\"\n",
    "    total_draws = len(draws)\n",
    "    prev_winner_num_draws = total_draws\n",
    "    curr_winner_num_draws = total_draws \n",
    "    prev_num_draws = total_draws // 2\n",
    "    curr_num_draws = total_draws // 2\n",
    "    \n",
    "    while True:\n",
    "\n",
    "        # check if game has a winner for current draw selection\n",
    "        winner_seen = game_has_winner(bingo_boards, draws[:curr_num_draws])\n",
    "        if winner_seen:\n",
    "            # update the number of draws to find a winner since it has decreased  \n",
    "            prev_winner_num_draws = curr_winner_num_draws\n",
    "            curr_winner_num_draws = curr_num_draws        \n",
    "\n",
    "            # reduce search range to see if a winner is found with even less draws\n",
    "            prev_num_draws = curr_num_draws\n",
    "            curr_num_draws = curr_winner_num_draws // 2\n",
    "\n",
    "            # min draws must be at least current winning draws value\n",
    "            winning_draws_upper_bound = curr_winner_num_draws\n",
    "        else:\n",
    "            \n",
    "            # if n draws doesn't produce a winner, but our last winner was n + 1, \n",
    "            # then n + 1 must be the minimum number of draws to find a winner, so exit loop\n",
    "            if (curr_num_draws == curr_winner_num_draws - 1):\n",
    "                break\n",
    "\n",
    "            # if no winners for current number of draws, then extend search range\n",
    "            prev_num_draws = curr_num_draws\n",
    "            curr_num_draws = (prev_num_draws + curr_winner_num_draws) // 2\n",
    "    return curr_winner_num_draws"
   ]
  },
  {
   "cell_type": "markdown",
   "id": "a1b22c32",
   "metadata": {},
   "source": [
    "#### Part 1\n",
    "Solution"
   ]
  },
  {
   "cell_type": "code",
   "execution_count": 11,
   "id": "7040cfaa",
   "metadata": {},
   "outputs": [
    {
     "name": "stdout",
     "output_type": "stream",
     "text": [
      "29440\n"
     ]
    }
   ],
   "source": [
    "draws = get_bingo_draws(data)\n",
    "arrs = get_bingo_board_arrays(data)\n",
    "\n",
    "# initialize bingo board objects\n",
    "bingo_boards = [BingoBoard(arr) for arr in arrs]\n",
    "\n",
    "# get minimum number of draws to find a winner\n",
    "min_draws = get_min_draws_to_win(bingo_boards, draws)\n",
    "\n",
    "# get board which wins after min number of draws\n",
    "# NOTE: we assume there is at most 1 winner for each draw\n",
    "winner = [bb for bb in bingo_boards if game_has_winner([bb], draws[:min_draws])][0]\n",
    "winner.update_marker(draws[:min_draws])\n",
    "print(draws[min_draws - 1] * winner.sum_of_unmarked())"
   ]
  },
  {
   "cell_type": "markdown",
   "id": "bf82af1f",
   "metadata": {},
   "source": [
    "#### Part 2\n",
    "Solution"
   ]
  },
  {
   "cell_type": "code",
   "execution_count": 64,
   "id": "46fb8b34",
   "metadata": {},
   "outputs": [
    {
     "name": "stdout",
     "output_type": "stream",
     "text": [
      "13884\n"
     ]
    }
   ],
   "source": [
    "# re-initialize bingo board objects so that they ar reset from part 1\n",
    "bingo_boards = [BingoBoard(arr) for arr in arrs]\n",
    "\n",
    "# get minimum number of draws to win for each board\n",
    "min_draws_by_board = {i: get_min_draws_to_win([bb], draws) for i, bb in enumerate(bingo_boards)}\n",
    "\n",
    "# find the index of the board which requires the most draws until it wins\n",
    "most_draws_bb_index = max(min_draws_by_board, key=min_draws_by_board.get)\n",
    "\n",
    "# get the bingo board which takes the most draws to win \n",
    "last_bb_to_win = bingo_boards[most_draws_bb_index]\n",
    "last_bb_to_win.reset_marker()\n",
    "last_bb_to_win.update_marker(draws[:winning_draw_index])\n",
    "\n",
    "# get the winning draw\n",
    "winning_draw = draws[min_draws_by_board[most_draws_bb_index] - 1]\n",
    "print(last_bb_to_win.sum_of_unmarked() * winning_draw)"
   ]
  },
  {
   "cell_type": "code",
   "execution_count": null,
   "id": "ee342e1b",
   "metadata": {},
   "outputs": [],
   "source": []
  }
 ],
 "metadata": {
  "kernelspec": {
   "display_name": "Python 3 (ipykernel)",
   "language": "python",
   "name": "python3"
  },
  "language_info": {
   "codemirror_mode": {
    "name": "ipython",
    "version": 3
   },
   "file_extension": ".py",
   "mimetype": "text/x-python",
   "name": "python",
   "nbconvert_exporter": "python",
   "pygments_lexer": "ipython3",
   "version": "3.10.0"
  }
 },
 "nbformat": 4,
 "nbformat_minor": 5
}
