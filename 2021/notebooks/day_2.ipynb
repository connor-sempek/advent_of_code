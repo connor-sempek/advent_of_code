{
 "cells": [
  {
   "cell_type": "markdown",
   "id": "87f9db67",
   "metadata": {},
   "source": [
    "# Advent of Code 2021: Day 2\n",
    "link to puzzle [here](https://adventofcode.com/2021/day/2)"
   ]
  },
  {
   "cell_type": "markdown",
   "id": "1370dafe",
   "metadata": {},
   "source": [
    "Imports"
   ]
  },
  {
   "cell_type": "code",
   "execution_count": 5,
   "id": "0fc50c15",
   "metadata": {},
   "outputs": [],
   "source": [
    "import math\n",
    "\n",
    "import numpy as np\n",
    "\n",
    "!ln -sf ../utils.py .\n",
    "import utils"
   ]
  },
  {
   "cell_type": "markdown",
   "id": "3796cee1",
   "metadata": {},
   "source": [
    "Load puzzle input data"
   ]
  },
  {
   "cell_type": "code",
   "execution_count": 6,
   "id": "9f3acf82",
   "metadata": {},
   "outputs": [],
   "source": [
    "DATA_DIR = '../data'\n",
    "DAY = 2\n",
    "data = utils.get_puzzle_input(day=DAY, input_dir=DATA_DIR)"
   ]
  },
  {
   "cell_type": "markdown",
   "id": "50820e36",
   "metadata": {},
   "source": [
    "Functions"
   ]
  },
  {
   "cell_type": "code",
   "execution_count": 7,
   "id": "7095653f",
   "metadata": {},
   "outputs": [],
   "source": [
    "def directional_command_to_xy(s):\n",
    "    \"\"\"turn a direction command string into its representation as a vector translation in the \n",
    "    x,y plane of the form [x, y] such that adding the coordinate to another x,y pair [p1, p2] \n",
    "    representing current position, then [p1 + x, p2 + y] is the position resulting from performing \n",
    "    the directional command. \n",
    "    \n",
    "    E.g., if our current position is [0, 0] and we receive the directional command `forward 8`, \n",
    "    then we would return the coordinate vector [8, 0], since moving our current position [0, 0]\n",
    "    8 units along the x axis and 0 units along the y axis restults in [8, 0] = [0 + 8, 0 + 0].\n",
    "    \"\"\"\n",
    "    direction, units = tuple(s.split())\n",
    "    # increase horizontal position\n",
    "    if direction == 'forward':  \n",
    "        xy = np.array([int(units), 0])\n",
    "    # increase depth\n",
    "    elif direction == 'down':  \n",
    "        xy = np.array([0, int(units)])\n",
    "    # decrease depth\n",
    "    elif direction == 'up':\n",
    "        xy = np.array([0, -int(units)])\n",
    "    # if direction is none of forward, down, up, then return None and print a warning\n",
    "    # that the direction command is unknown\n",
    "    else:\n",
    "        print(f'Unknown direction command: {direction}')\n",
    "        xy = None\n",
    "    return xy\n",
    "\n",
    "def compute_final_position_aim(commands):\n",
    "    \"\"\"\n",
    "    \"\"\"\n",
    "    pos = [0, 0, 0]\n",
    "    for cmd in commands:\n",
    "        direction = cmd.split()[0]\n",
    "        units = int(cmd.split()[1])\n",
    "        \n",
    "        # increase horizontal position\n",
    "        if direction == 'forward':\n",
    "            pos[0] = pos[0] + units\n",
    "            pos[1] = pos[1] + pos[2] * units\n",
    "            \n",
    "        # increase depth\n",
    "        elif direction == 'down':  \n",
    "            pos[2] = pos[2] + units\n",
    "        \n",
    "        # decrease depth\n",
    "        elif direction == 'up':\n",
    "            pos[2] = pos[2] - units\n",
    "\n",
    "        # if direction is none of forward, down, up, then return None and print a warning\n",
    "        # that the direction command is unknown\n",
    "        else:\n",
    "            raise(ValueError(f'Unknown direction command: {direction}'))\n",
    "    return pos\n",
    "\n",
    "def final_position(data):\n",
    "    \"\"\"compute the final position resulting from a series of directional commands by summing\n",
    "    their representations as vector translations in the x,y plane.\n",
    "    \"\"\"\n",
    "    return np.array([directional_command_to_xy(s) for s in data]).sum(axis=0)"
   ]
  },
  {
   "cell_type": "markdown",
   "id": "36cd7063",
   "metadata": {},
   "source": [
    "#### Part 1"
   ]
  },
  {
   "cell_type": "markdown",
   "id": "816ba245",
   "metadata": {},
   "source": [
    "Solution"
   ]
  },
  {
   "cell_type": "code",
   "execution_count": 8,
   "id": "6e34c799",
   "metadata": {},
   "outputs": [
    {
     "name": "stdout",
     "output_type": "stream",
     "text": [
      "1459206\n"
     ]
    }
   ],
   "source": [
    "print(math.prod(final_position(data)))"
   ]
  },
  {
   "cell_type": "markdown",
   "id": "ed273352",
   "metadata": {},
   "source": [
    "#### Part 2"
   ]
  },
  {
   "cell_type": "markdown",
   "id": "15ac1b8d",
   "metadata": {},
   "source": [
    "Solution"
   ]
  },
  {
   "cell_type": "code",
   "execution_count": 9,
   "id": "fe1faec6",
   "metadata": {},
   "outputs": [
    {
     "name": "stdout",
     "output_type": "stream",
     "text": [
      "1320534480\n"
     ]
    }
   ],
   "source": [
    "print(math.prod(compute_final_position_aim(data)[:-1]))"
   ]
  }
 ],
 "metadata": {
  "kernelspec": {
   "display_name": "Python 3 (ipykernel)",
   "language": "python",
   "name": "python3"
  },
  "language_info": {
   "codemirror_mode": {
    "name": "ipython",
    "version": 3
   },
   "file_extension": ".py",
   "mimetype": "text/x-python",
   "name": "python",
   "nbconvert_exporter": "python",
   "pygments_lexer": "ipython3",
   "version": "3.10.0"
  }
 },
 "nbformat": 4,
 "nbformat_minor": 5
}
