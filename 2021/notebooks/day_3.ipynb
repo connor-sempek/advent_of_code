{
 "cells": [
  {
   "cell_type": "markdown",
   "id": "87f9db67",
   "metadata": {},
   "source": [
    "# Advent of Code 2021: Day 3\n",
    "link to puzzle [here](https://adventofcode.com/2021/day/3)"
   ]
  },
  {
   "cell_type": "markdown",
   "id": "1370dafe",
   "metadata": {},
   "source": [
    "Imports"
   ]
  },
  {
   "cell_type": "code",
   "execution_count": 8,
   "id": "0fc50c15",
   "metadata": {},
   "outputs": [],
   "source": [
    "import numpy as np\n",
    "\n",
    "!ln -sf ../utils.py .\n",
    "import utils"
   ]
  },
  {
   "cell_type": "markdown",
   "id": "f1736bf3",
   "metadata": {},
   "source": [
    "Load puzzle input data"
   ]
  },
  {
   "cell_type": "code",
   "execution_count": 9,
   "id": "98f2fd4c",
   "metadata": {},
   "outputs": [],
   "source": [
    "DATA_DIR = '../data'\n",
    "DAY = 3\n",
    "data = utils.get_puzzle_input(day=DAY, input_dir=DATA_DIR)"
   ]
  },
  {
   "cell_type": "markdown",
   "id": "22c4655d",
   "metadata": {},
   "source": [
    "Functions"
   ]
  },
  {
   "cell_type": "code",
   "execution_count": 10,
   "id": "eeab671d",
   "metadata": {},
   "outputs": [],
   "source": [
    "def binary_array_to_string(arr):\n",
    "    \"\"\"turn an 1 x n array `arr` whose elements are binary digits, i.e. 1 or 0\n",
    "    into a string `s` such that `s[i] = str(arr[i])`\n",
    "    \"\"\"\n",
    "    return ''.join(arr.astype(str))\n",
    "\n",
    "def binary_strings_to_array(data):\n",
    "    \"\"\"turn a list of binary strings into a numpy array as follows. If there are m binary strings of length n, \n",
    "    then create an m x n table where the element at row i, column j is the jth digit of the ith \n",
    "    binary string, as an int\n",
    "    \"\"\"\n",
    "    return np.array([list(b) for b in data]).astype(int)\n",
    "\n",
    "def get_least_frequent_bits(arr):\n",
    "    \"\"\"for an m x n array `arr` in {0,1}^(m x n), return a 1 x n array in {1,0}^n\n",
    "    whose ith position is the bit which appears **least** frequently in ith column of `arr`,\n",
    "    with ties going to 0\n",
    "    \"\"\"\n",
    "    # get frequency of 1s and 0s in each column\n",
    "    freq_ones = arr.sum(axis=0)\n",
    "    freq_zeros = arr.shape[0] - freq_ones\n",
    "    \n",
    "    # find least frequent bit for each column by doing element-wise comparison\n",
    "    least_frequent_bits = (freq_ones < freq_zeros).astype(int)\n",
    "\n",
    "    # when frequencies are equal, set to 0\n",
    "    least_frequent_bits[freq_ones == freq_zeros] = 0\n",
    "    return least_frequent_bits\n",
    "\n",
    "def get_most_frequent_bits(arr):\n",
    "    \"\"\"for an m x n array `arr` in {0,1}^(m x n), return a 1 x n array in {1,0}^n\n",
    "    whose ith position is the bit which appears **most** frequently in ith column of `arr`,\n",
    "    with ties going to 1\n",
    "    \"\"\"\n",
    "    # get frequency of 1s and 0s in each column\n",
    "    freq_ones = arr.sum(axis=0)\n",
    "    freq_zeros = arr.shape[0] - freq_ones\n",
    "    \n",
    "    # find least frequent bit for each column by doing element-wise comparison\n",
    "    most_frequent_bits = (freq_ones > freq_zeros).astype(int)\n",
    "\n",
    "    # when frequencies are equal, set to 0\n",
    "    most_frequent_bits[freq_ones == freq_zeros] = 1\n",
    "    return most_frequent_bits\n",
    "\n",
    "def get_gamma_rate(arr):\n",
    "    return int(binary_array_to_string(get_most_frequent_bits(arr)), base=2)\n",
    "\n",
    "def get_epsilon_rate(arr):\n",
    "    return int(binary_array_to_string(get_least_frequent_bits(arr)), base=2)\n",
    "\n",
    "def get_rating(arr, bit_criteria):\n",
    "    ncols = arr.shape[1]\n",
    "    rating_arr = arr[:, :]\n",
    "    for i in range(ncols):\n",
    "        rating_arr = rating_arr[bit_criteria(rating_arr, i), :]\n",
    "        if rating_arr.shape[0] == 1:\n",
    "            break\n",
    "    return int(binary_array_to_string(rating_arr[0]), base=2)\n",
    "\n",
    "def oxygen_generator_rating_bit_criteria(arr, i):\n",
    "    return arr[:, i] == get_least_frequent_bits(arr)[i]\n",
    "\n",
    "def CO2_scrubber_rating_bit_criteria(arr, i):\n",
    "    return arr[:, i] == get_most_frequent_bits(arr)[i]\n",
    "\n",
    "def get_CO2_scrubber_rating(arr):\n",
    "    return get_rating(arr, CO2_scrubber_rating_bit_criteria)\n",
    "\n",
    "def get_oxygen_generator_rating(arr):\n",
    "    return get_rating(arr, oxygen_generator_rating_bit_criteria)\n",
    "\n",
    "def get_life_support_rating(arr):\n",
    "    return get_oxygen_generator_rating(arr) * get_CO2_scrubber_rating(arr)"
   ]
  },
  {
   "cell_type": "markdown",
   "id": "e1f42893",
   "metadata": {},
   "source": [
    "#### Part 1"
   ]
  },
  {
   "cell_type": "markdown",
   "id": "cb0e6c77",
   "metadata": {},
   "source": [
    "Solution"
   ]
  },
  {
   "cell_type": "code",
   "execution_count": 11,
   "id": "212d8f65",
   "metadata": {},
   "outputs": [
    {
     "name": "stdout",
     "output_type": "stream",
     "text": [
      "1082324\n"
     ]
    }
   ],
   "source": [
    "arr = binary_strings_to_array(data)\n",
    "gamma = get_gamma_rate(arr)\n",
    "epsilon = get_epsilon_rate(arr)\n",
    "print(gamma * epsilon)"
   ]
  },
  {
   "cell_type": "markdown",
   "id": "92845b60",
   "metadata": {},
   "source": [
    "#### Part 2"
   ]
  },
  {
   "cell_type": "markdown",
   "id": "352bd4a6",
   "metadata": {},
   "source": [
    "Solution"
   ]
  },
  {
   "cell_type": "code",
   "execution_count": 12,
   "id": "57f45192",
   "metadata": {},
   "outputs": [
    {
     "name": "stdout",
     "output_type": "stream",
     "text": [
      "1353024\n"
     ]
    }
   ],
   "source": [
    "print(get_life_support_rating(arr))"
   ]
  }
 ],
 "metadata": {
  "kernelspec": {
   "display_name": "Python 3 (ipykernel)",
   "language": "python",
   "name": "python3"
  },
  "language_info": {
   "codemirror_mode": {
    "name": "ipython",
    "version": 3
   },
   "file_extension": ".py",
   "mimetype": "text/x-python",
   "name": "python",
   "nbconvert_exporter": "python",
   "pygments_lexer": "ipython3",
   "version": "3.10.0"
  }
 },
 "nbformat": 4,
 "nbformat_minor": 5
}
