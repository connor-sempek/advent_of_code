{
 "cells": [
  {
   "cell_type": "markdown",
   "id": "87f9db67",
   "metadata": {},
   "source": [
    "# Advent of Code 2021: Day 5\n",
    "link to puzzle [here](https://adventofcode.com/2021/day/5)"
   ]
  },
  {
   "cell_type": "markdown",
   "id": "1370dafe",
   "metadata": {},
   "source": [
    "Imports"
   ]
  },
  {
   "cell_type": "code",
   "execution_count": 1,
   "id": "0fc50c15",
   "metadata": {},
   "outputs": [],
   "source": [
    "from dataclasses import dataclass, field\n",
    "from typing import List\n",
    "\n",
    "import numpy as np\n",
    "import numpy.typing as npt\n",
    "\n",
    "!ln -sf ../utils.py .\n",
    "import utils"
   ]
  },
  {
   "cell_type": "markdown",
   "id": "6e21c2c8",
   "metadata": {},
   "source": [
    "Load puzzle input data"
   ]
  },
  {
   "cell_type": "code",
   "execution_count": 2,
   "id": "3e8fb462",
   "metadata": {},
   "outputs": [],
   "source": [
    "DATA_DIR = '../data'\n",
    "DAY = 5\n",
    "data = utils.get_puzzle_input(day=DAY, input_dir=DATA_DIR)"
   ]
  },
  {
   "cell_type": "markdown",
   "id": "84c77f64",
   "metadata": {},
   "source": [
    "Functions"
   ]
  },
  {
   "cell_type": "code",
   "execution_count": 96,
   "id": "cedeab19",
   "metadata": {},
   "outputs": [],
   "source": [
    "def parse_endpoints(s):\n",
    "    \"\"\"map strings of the form `'x1,y1 -> x2,y2'` \n",
    "    to 2x2 integer arrays of the form `[[x1, y1], [x2, y2]]`\n",
    "    \"\"\"\n",
    "    return np.array([pt.split(',') for pt in s.split('->')], dtype=int)\n",
    "\n",
    "def get_all_endpoints(data):\n",
    "    \"\"\"iterate through the puzzle input to parse all endpoints\n",
    "    and return a list of 2x2 integer arrays\n",
    "    \"\"\"\n",
    "    return [parse_endpoints(s) for s in data]\n",
    "\n",
    "def is_horizontal(endpoints):\n",
    "    \"\"\"return True if the endpoints define a horizontal line segment, \n",
    "    i.e. the y values of each enpoint are equal, otherwise return False\n",
    "    \"\"\"\n",
    "    return endpoints[0, 1] - endpoints[1, 1] == 0\n",
    "\n",
    "def is_vertical(endpoints):\n",
    "    \"\"\"return True if the endpoints define a vertical line segment, \n",
    "    i.e. the x values of each enpoint are equal, otherwise return False\n",
    "    \"\"\"\n",
    "    return endpoints[0, 0] - endpoints[1, 0] == 0"
   ]
  },
  {
   "cell_type": "code",
   "execution_count": 102,
   "id": "ad8b8995",
   "metadata": {},
   "outputs": [
    {
     "name": "stdout",
     "output_type": "stream",
     "text": [
      "7142\n"
     ]
    }
   ],
   "source": [
    "all_endpoints = get_all_endpoints(data)\n",
    "\n",
    "# initialize grid, a 1000 x 1000 array of zeros\n",
    "grid = np.zeros((1000, 1000))\n",
    "\n",
    "# for each set of endpoint pairs (p1, p1)\n",
    "#     1. Construct the line segment L defined by (p1, p2)\n",
    "#     2. For each integer point (x, y) lying on L,\n",
    "#        add 1 to the element of grid at row x, column y\n",
    "# then the resulting grid values will counts the number of\n",
    "# line segments which intersect that point\n",
    "for endpoints in all_endpoints:\n",
    "    if is_vertical(endpoints):\n",
    "        x = endpoints[0, 0]\n",
    "        y = range(endpoints[:, 1].min(), endpoints[:, 1].max() + 1)\n",
    "    elif is_horizontal(endpoints):\n",
    "        x = range(endpoints[:, 0].min(), endpoints[:, 0].max() + 1)\n",
    "        y = endpoints[0, 1]\n",
    "    else:\n",
    "        continue\n",
    "    \n",
    "    # update grid counts for new line if horizontal or vertical\n",
    "    grid[x, y] += 1\n",
    "    \n",
    "# count points in grid which intersect > 1 line segment\n",
    "print((grid > 1).sum())"
   ]
  },
  {
   "cell_type": "markdown",
   "id": "ec36f646",
   "metadata": {},
   "source": [
    "#### Part 2"
   ]
  },
  {
   "cell_type": "code",
   "execution_count": null,
   "id": "2c8aa8de",
   "metadata": {},
   "outputs": [],
   "source": []
  }
 ],
 "metadata": {
  "kernelspec": {
   "display_name": "Python 3 (ipykernel)",
   "language": "python",
   "name": "python3"
  },
  "language_info": {
   "codemirror_mode": {
    "name": "ipython",
    "version": 3
   },
   "file_extension": ".py",
   "mimetype": "text/x-python",
   "name": "python",
   "nbconvert_exporter": "python",
   "pygments_lexer": "ipython3",
   "version": "3.10.0"
  }
 },
 "nbformat": 4,
 "nbformat_minor": 5
}
